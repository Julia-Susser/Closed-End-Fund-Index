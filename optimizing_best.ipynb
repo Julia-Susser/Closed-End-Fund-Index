{
 "cells": [
  {
   "cell_type": "code",
   "execution_count": 4,
   "metadata": {
    "id": "VAGm5b-1ahYp"
   },
   "outputs": [
    {
     "name": "stdout",
     "output_type": "stream",
     "text": [
      "adx.csv\n",
      "asa.csv\n",
      "agd.csv\n",
      "aio.csv\n",
      "aod.csv\n",
      "peo.csv\n"
     ]
    }
   ],
   "source": [
    "import os\n",
    "import numpy as np\n",
    "import pandas as pd\n",
    "os.chdir(\"/Users/jsusser/Desktop/code/funds/\")\n",
    "\n",
    "\n",
    "hf = pd.DataFrame({})\n",
    "my_dir = os.listdir()\n",
    "my_dir.remove(\".DS_Store\")\n",
    "for x in my_dir:\n",
    "    print(x)\n",
    "    df = pd.read_csv(x)\n",
    "    df.columns = df.iloc[0]\n",
    "    df = df[1:]\n",
    "    name = x.strip(\".csv\")\n",
    "    cf = pd.DataFrame({name: df[\"ID.WEIGHTS\"]})\n",
    "    cf.index = df.iloc[:,-1].replace(np.nan, \"N/A\")\n",
    "    cf = cf.dropna(axis=0)\n",
    "    na = cf[cf.index==\"N/A\"].astype('float').sum(axis=0)\n",
    "    cf = cf[cf.index != \"N/A\"]\n",
    "    cf.loc[\"N/A\"] = na\n",
    "    hf = hf.merge(cf, how='outer', left_index=True, right_index=True)\n",
    "    \n",
    "\n",
    "hf = hf.fillna(0)\n",
    "\n",
    "#hf.index = pd.Series(hf.index).replace(np.nan, \"N/A\")\n",
    "#hf = hf.reindex(columns=[\"aod\",\"adx\",\"peo\", \"aio\"])\n",
    "hf = hf.astype('float')\n",
    "\n",
    "\n",
    "sf = pd.read_csv(\"../s&p500.csv\")\n",
    "sf = sf[[\"Symbol\",\"Weight\"]]\n",
    "#https://www.slickcharts.com/sp500"
   ]
  },
  {
   "cell_type": "code",
   "execution_count": 12,
   "metadata": {},
   "outputs": [
    {
     "data": {
      "text/plain": [
       "176376"
      ]
     },
     "execution_count": 12,
     "metadata": {},
     "output_type": "execute_result"
    }
   ],
   "source": [
    "\n",
    "listt=[]\n",
    "big_num = 2\n",
    "def get_nums(num,pre_nums=[]):\n",
    "    if num == 1:\n",
    "        h = round(1 - sum(pre_nums),2)\n",
    "        p = pre_nums + [h]\n",
    "        listt.append(p)\n",
    "        return p\n",
    "    left = int(101 - (sum(pre_nums)*100))\n",
    "    for x in range(0,left):\n",
    "        pre_nums.append(x/100)\n",
    "\n",
    "        get_nums(num-1,pre_nums)\n",
    "        pre_nums = pre_nums[:0-num+1]\n",
    "        \n",
    "    return listt\n",
    "listt=[]\n",
    "big_num = 2\n",
    "\n",
    "hey = get_nums(4)\n",
    "len(hey)"
   ]
  },
  {
   "cell_type": "code",
   "execution_count": 14,
   "metadata": {},
   "outputs": [
    {
     "data": {
      "text/plain": [
       "2902"
      ]
     },
     "execution_count": 14,
     "metadata": {},
     "output_type": "execute_result"
    }
   ],
   "source": [
    "listt=[]\n",
    "def get_nums(num,pre_nums=[]):\n",
    "    if num == 1:\n",
    "        h = round(1 - sum(pre_nums),1)\n",
    "        p = pre_nums + [h]\n",
    "        listt.append(p)\n",
    "        return p\n",
    "    left = int(11 - (sum(pre_nums)*10))\n",
    "    for x in range(0,left):\n",
    "        pre_nums.append(x/10)\n",
    "\n",
    "        get_nums(num-1,pre_nums)\n",
    "        pre_nums = pre_nums[:0-num+1]\n",
    "        \n",
    "    return listt\n",
    "hey = get_nums(6)\n",
    "len(hey)"
   ]
  },
  {
   "cell_type": "code",
   "execution_count": 15,
   "metadata": {
    "colab": {
     "base_uri": "https://localhost:8080/"
    },
    "id": "9hhVtSW9LEjR",
    "outputId": "30b12ebe-6784-4c85-b433-abfd6c3a07dc"
   },
   "outputs": [
    {
     "name": "stdout",
     "output_type": "stream",
     "text": [
      "89.34643\n",
      "[0.8, 0.0, 0.0, 0.1, 0.0, 0.1]\n"
     ]
    }
   ],
   "source": [
    "def find(weights, hf, sf):\n",
    "    \n",
    "    \n",
    "    df = hf.multiply(weights).sum(axis=1).to_frame(\"ours\")\n",
    "    df = df.merge(sf, how=\"outer\", right_on='Symbol', left_index=True)\n",
    "    df = df.set_index(\"Symbol\")\n",
    "    #df = df.drop([\"Symbol\"], axis=1)\n",
    "    df = df.fillna(0)\n",
    "    return round(sum(abs(df[\"ours\"]-df[\"Weight\"])),5)\n",
    "\n",
    "    \n",
    "\n",
    "    \n",
    "def start():\n",
    "    k = 1000 \n",
    "    for weights in hey:\n",
    "        h = find(weights, hf, sf)\n",
    "        if h<k:\n",
    "            k=h\n",
    "            l = weights\n",
    "    print(k)\n",
    "    print(l)\n",
    "    \n",
    "#print(find(weights, hf, sf))\n",
    "weights = [1/len(hf.columns) for x in range(len(hf.columns))]\n",
    "start()\n",
    "\n",
    "#[0.1, 0.03, 0.82, 0.05]\n"
   ]
  },
  {
   "cell_type": "code",
   "execution_count": 16,
   "metadata": {},
   "outputs": [],
   "source": [
    "\n",
    "\n",
    "def change_down(weights, find, no_change_nums):\n",
    "    k = [x + (.01/(len(weights)-len(no_change_nums)-1)) for x in weights[:find]+weights[find+1:]]\n",
    "    k.insert(find, weights[find]-.01)\n",
    "    for x in no_change_nums:\n",
    "        k[x] = weights[x]\n",
    "    \n",
    "    return k\n",
    "def change_up(weights, find, no_change_nums):\n",
    "    k = [x - (.01/(len(weights)-len(no_change_nums)-1)) for x in weights[:find]+weights[find+1:]]\n",
    "    k.insert(find, weights[find]+.01)\n",
    "    for x in no_change_nums:\n",
    "        k[x] = weights[x]\n",
    "    \n",
    "    \n",
    "    return k\n",
    "\n",
    "def find(weights):\n",
    "    global hf\n",
    "    global sf\n",
    "    df = hf.multiply(weights).sum(axis=1).to_frame(\"ours\")\n",
    "    df = df.merge(sf, how=\"outer\", right_on='Symbol', left_index=True)\n",
    "    df = df.set_index(\"Symbol\")\n",
    "    #df = df.drop([\"Symbol\"], axis=1)\n",
    "    df = df.fillna(0)\n",
    "    return sum(abs(df[\"ours\"]-df[\"Weight\"]))\n",
    "\n",
    "def best(type, weights, ideal, ideal_weights):\n",
    "    global no_change_nums\n",
    "    global find_num\n",
    "    num = find(weights)\n",
    "    if num < ideal:\n",
    "        if type == \"up\":\n",
    "            if weights[find_num] + .01 > 0:\n",
    "                return best(\"up\",  change_up(weights, find_num, no_change_nums), num, weights)\n",
    "            else:\n",
    "                return weights\n",
    "        if type == \"down\":\n",
    "            if weights[find_num] - .01 > 0:\n",
    "                return best(\"down\", change_down(weights, find_num, no_change_nums), num, weights)\n",
    "            else: \n",
    "                return weights\n",
    "    else:\n",
    "        return ideal_weights\n",
    "    \n",
    "    \n",
    "    \n",
    "\n",
    "\n",
    "def go_through(weights):\n",
    "    global hf\n",
    "    global sf\n",
    "    global no_change_num\n",
    "    global find_num\n",
    "    num = find(weights)\n",
    "    dw = change_down(weights, find_num, no_change_nums)\n",
    "    uw = change_up(weights, find_num, no_change_nums)\n",
    "    up = find(uw)\n",
    "    down = find(dw)\n",
    "    if up < num:\n",
    "        return best(\"up\", uw,num, [])\n",
    "        \n",
    "    elif down < num:\n",
    "        return best(\"down\", dw,num, [])\n",
    "    else:\n",
    "        return weights\n",
    "    \n",
    "        \n",
    "\n",
    "\n"
   ]
  },
  {
   "cell_type": "code",
   "execution_count": 77,
   "metadata": {},
   "outputs": [
    {
     "name": "stdout",
     "output_type": "stream",
     "text": [
      "[0.029999999999999916, 0.8233333333333341, 0.0533333333333335, 0.09333333333333349]\n"
     ]
    }
   ],
   "source": [
    "weights = [1/len(hf.columns) for x in range(len(hf.columns))]\n",
    "way = [[0, []], [1, [0]], [0,[1]], [0,[1]], [2,[0,1]], [1,[0,2]], [0,[1,2]], [2,[]], [1,[0,2]], [0,[1,2]]]\n",
    "\n",
    "for y in range(2):\n",
    "    for x in way:\n",
    "        find_num = x[0]\n",
    "        no_change_nums = x[1]\n",
    "        weights = go_through(weights)\n",
    "print(weights)"
   ]
  },
  {
   "cell_type": "code",
   "execution_count": 74,
   "metadata": {},
   "outputs": [
    {
     "data": {
      "text/plain": [
       "[0.1, 0.03, 0.82, 0.05]"
      ]
     },
     "execution_count": 74,
     "metadata": {},
     "output_type": "execute_result"
    }
   ],
   "source": [
    "[0.1, 0.03, 0.82, 0.05]"
   ]
  },
  {
   "cell_type": "code",
   "execution_count": 22,
   "metadata": {},
   "outputs": [],
   "source": [
    "t = []\n",
    "z = 5\n",
    "\n",
    "def path(y):\n",
    "    global z\n",
    "    if y == z:\n",
    "        return \"hey\"\n",
    "    global t\n",
    "    for x in range(y,-1,-1):\n",
    "        h = [x for x in range(y+1)]\n",
    "        h.remove(x)\n",
    "        t.append([x, h])\n",
    "    path(y+1)\n",
    "    if y == 0:\n",
    "        return t\n",
    "        \n",
    "    \n",
    "        "
   ]
  },
  {
   "cell_type": "code",
   "execution_count": 23,
   "metadata": {},
   "outputs": [
    {
     "data": {
      "text/plain": [
       "[[0, []],\n",
       " [1, [0]],\n",
       " [0, [1]],\n",
       " [2, [0, 1]],\n",
       " [1, [0, 2]],\n",
       " [0, [1, 2]],\n",
       " [3, [0, 1, 2]],\n",
       " [2, [0, 1, 3]],\n",
       " [1, [0, 2, 3]],\n",
       " [0, [1, 2, 3]],\n",
       " [4, [0, 1, 2, 3]],\n",
       " [3, [0, 1, 2, 4]],\n",
       " [2, [0, 1, 3, 4]],\n",
       " [1, [0, 2, 3, 4]],\n",
       " [0, [1, 2, 3, 4]]]"
      ]
     },
     "execution_count": 23,
     "metadata": {},
     "output_type": "execute_result"
    }
   ],
   "source": [
    "way = path(0)\n",
    "way"
   ]
  },
  {
   "cell_type": "code",
   "execution_count": 44,
   "metadata": {},
   "outputs": [
    {
     "name": "stdout",
     "output_type": "stream",
     "text": [
      "[0.8166666666666672, 0.0006666666666665343, 0.0031666666666665434, 0.10649999999999986, 0.016499999999999883, 0.05649999999999989]\n"
     ]
    }
   ],
   "source": [
    "weights = [1/len(hf.columns) for x in range(len(hf.columns))]\n",
    "for y in range(10):\n",
    "    for x in way:\n",
    "        find_num = x[0]\n",
    "        no_change_nums = x[1]\n",
    "        weights = go_through(weights)\n",
    "print(weights)"
   ]
  },
  {
   "cell_type": "code",
   "execution_count": null,
   "metadata": {},
   "outputs": [],
   "source": [
    "[0.8, 0.0, 0.0, 0.1, 0.0, 0.1]"
   ]
  },
  {
   "cell_type": "code",
   "execution_count": 43,
   "metadata": {},
   "outputs": [],
   "source": [
    "way = [[0, []],\n",
    " [1, [0]],\n",
    " [0, [1]],\n",
    " [2, [0, 1]],\n",
    " [1, [0, 2]],\n",
    " [0, [1, 2]],\n",
    " [3, [0, 1, 2]],\n",
    " [2, [0, 1, 3]],\n",
    " [1, [0, 2, 3]],\n",
    " [0, [1, 2, 3]],\n",
    " [4, [0, 1, 2, 3]],\n",
    " [3, [0, 1, 2, 4]],\n",
    " [2, [0, 1, 3, 4]],\n",
    " [1, [0, 2, 3, 4]],\n",
    " [0, [1, 2, 3, 4]]]"
   ]
  },
  {
   "cell_type": "code",
   "execution_count": 46,
   "metadata": {},
   "outputs": [
    {
     "data": {
      "text/plain": [
       "[0.817, 0.001, 0.003, 0.106, 0.016, 0.056]"
      ]
     },
     "execution_count": 46,
     "metadata": {},
     "output_type": "execute_result"
    }
   ],
   "source": [
    "weights = [round(x,3) for x in weights]\n",
    "weights"
   ]
  },
  {
   "cell_type": "code",
   "execution_count": null,
   "metadata": {},
   "outputs": [],
   "source": []
  }
 ],
 "metadata": {
  "colab": {
   "collapsed_sections": [],
   "name": "optimizing.ipynb",
   "provenance": []
  },
  "kernelspec": {
   "display_name": "Python 3",
   "language": "python",
   "name": "python3"
  },
  "language_info": {
   "codemirror_mode": {
    "name": "ipython",
    "version": 3
   },
   "file_extension": ".py",
   "mimetype": "text/x-python",
   "name": "python",
   "nbconvert_exporter": "python",
   "pygments_lexer": "ipython3",
   "version": "3.8.3"
  }
 },
 "nbformat": 4,
 "nbformat_minor": 1
}
